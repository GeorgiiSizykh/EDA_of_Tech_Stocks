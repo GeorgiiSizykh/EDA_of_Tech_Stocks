{
 "cells": [
  {
   "cell_type": "markdown",
   "id": "1d036b89-fb94-4f4e-a6d3-6c9d6a6358e6",
   "metadata": {},
   "source": [
    "# Мой первый тест с Git и Jupyter\n",
    "\n",
    "Этот ноутбук создан для того, чтобы попрактиковаться с командами Git."
   ]
  },
  {
   "cell_type": "code",
   "execution_count": 1,
   "id": "1b1be354-5ac4-4b6d-88af-5871257f080c",
   "metadata": {},
   "outputs": [
    {
     "name": "stdout",
     "output_type": "stream",
     "text": [
      "Привет, Git! Я учусь работать с тобой.\n"
     ]
    }
   ],
   "source": [
    "message = \"Привет, Git! Я учусь работать с тобой.\"\n",
    "print(message)"
   ]
  },
  {
   "cell_type": "code",
   "execution_count": 2,
   "id": "1e4e41e2-64f9-4274-8545-9038ffe88271",
   "metadata": {},
   "outputs": [
    {
     "name": "stdout",
     "output_type": "stream",
     "text": [
      "Номер итерации: 0\n",
      "Номер итерации: 1\n",
      "Номер итерации: 2\n",
      "Номер итерации: 3\n",
      "Номер итерации: 4\n"
     ]
    }
   ],
   "source": [
    "for i in range(5):\n",
    "    print(f\"Номер итерации: {i}\")"
   ]
  },
  {
   "cell_type": "code",
   "execution_count": 3,
   "id": "8affa806-390c-4d44-b9d1-fe41e33356bb",
   "metadata": {},
   "outputs": [
    {
     "name": "stdout",
     "output_type": "stream",
     "text": [
      "Another change\n"
     ]
    }
   ],
   "source": [
    "print(\"Another change\")"
   ]
  },
  {
   "cell_type": "code",
   "execution_count": 1,
   "id": "6227ca2f-8039-4b8b-9a80-0abe25dca81b",
   "metadata": {},
   "outputs": [
    {
     "name": "stdout",
     "output_type": "stream",
     "text": [
      "One more change to check the username\n"
     ]
    }
   ],
   "source": [
    "print(\"One more change to check the username\")"
   ]
  }
 ],
 "metadata": {
  "kernelspec": {
   "display_name": "Python 3 (ipykernel)",
   "language": "python",
   "name": "python3"
  },
  "language_info": {
   "codemirror_mode": {
    "name": "ipython",
    "version": 3
   },
   "file_extension": ".py",
   "mimetype": "text/x-python",
   "name": "python",
   "nbconvert_exporter": "python",
   "pygments_lexer": "ipython3",
   "version": "3.12.2"
  }
 },
 "nbformat": 4,
 "nbformat_minor": 5
}
