{
 "cells": [
  {
   "cell_type": "code",
   "execution_count": 1,
   "id": "04d47c7e-76d5-43dd-9c90-dea065b39c67",
   "metadata": {},
   "outputs": [],
   "source": [
    "# Imports\n",
    "import yfinance as yf\n",
    "import pandas as pd\n",
    "import os"
   ]
  },
  {
   "cell_type": "code",
   "execution_count": 4,
   "id": "8baa5368-7fb9-4bee-8a47-593cf7757cf6",
   "metadata": {},
   "outputs": [],
   "source": [
    "# --- Configuration ---\n",
    "tickers_list = [\"AAPL\", \"MSFT\", \"GOOGL\", \"^GSPC\"]\n",
    "start_date = \"2014-01-01\"\n",
    "end_date = \"2024-12-31\"\n",
    "fin_data_filename = \"financial_data.csv\""
   ]
  },
  {
   "cell_type": "code",
   "execution_count": 6,
   "id": "50226959-275e-4c5b-a58c-8d46e51c14f3",
   "metadata": {},
   "outputs": [
    {
     "data": {
      "text/plain": [
       "'\\nprint(f\"Downloading data for: {\\', \\'.join(tickers_list)}\")\\nprint(f\"Period: {start_date} to {end_date}\")\\n\\ntry:\\n    all_data = yf.download(tickers_list, start=start_date, end=end_date)\\n\\n    if not all_data.empty:\\n        print(\"\\nData downloaded successfully.\")\\n\\n        # Посмотрим на структуру столбцов, чтобы понять, что мы сохраняем\\n        print(\"\\nStructure of downloaded data columns:\")\\n        print(all_data.columns)\\n\\n        # --- Save Data to CSV ---\\n        try:\\n            all_data.to_csv(fin_data_filename)\\n            print(f\"\\nAll downloaded data (including OHLCV) successfully saved to: {fin_data_filename}\")\\n        except Exception as e:\\n            print(f\"\\nError saving data to {fin_data_filename}: {e}\")\\n            print(\"Data was downloaded but not saved.\")\\n\\n    else:\\n        print(\"\\nDownloaded data (all_data) is empty. Please check tickers and date range. Data not saved.\")\\n\\nexcept Exception as e:\\n    print(f\"\\nAn error occurred during download: {e}\")\\n    print(\"Data not saved.\")\\n'"
      ]
     },
     "execution_count": 6,
     "metadata": {},
     "output_type": "execute_result"
    }
   ],
   "source": [
    "# --- Download Data ---\n",
    "# Run this block for donwnloading data to financial_data.csv if there is no such file yet in the project folder\n",
    "\"\"\"\n",
    "print(f\"Downloading data for: {', '.join(tickers_list)}\")\n",
    "print(f\"Period: {start_date} to {end_date}\")\n",
    "\n",
    "try:\n",
    "    all_data = yf.download(tickers_list, start=start_date, end=end_date)\n",
    "\n",
    "    if not all_data.empty:\n",
    "        print(\"\\nData downloaded successfully.\")\n",
    "\n",
    "        # Посмотрим на структуру столбцов, чтобы понять, что мы сохраняем\n",
    "        print(\"\\nStructure of downloaded data columns:\")\n",
    "        print(all_data.columns)\n",
    "\n",
    "        # --- Save Data to CSV ---\n",
    "        try:\n",
    "            all_data.to_csv(fin_data_filename)\n",
    "            print(f\"\\nAll downloaded data (including OHLCV) successfully saved to: {fin_data_filename}\")\n",
    "        except Exception as e:\n",
    "            print(f\"\\nError saving data to {fin_data_filename}: {e}\")\n",
    "            print(\"Data was downloaded but not saved.\")\n",
    "\n",
    "    else:\n",
    "        print(\"\\nDownloaded data (all_data) is empty. Please check tickers and date range. Data not saved.\")\n",
    "\n",
    "except Exception as e:\n",
    "    print(f\"\\nAn error occurred during download: {e}\")\n",
    "    print(\"Data not saved.\")\n",
    "\"\"\""
   ]
  },
  {
   "cell_type": "code",
   "execution_count": 10,
   "id": "d93f2894-5761-4636-b41a-fcc79945d36b",
   "metadata": {},
   "outputs": [
    {
     "name": "stdout",
     "output_type": "stream",
     "text": [
      "Loading data from financial_data.csv...\n",
      "Data loaded successfully.\n",
      "\n",
      "Data head:\n",
      "Price           Close                                          High  \\\n",
      "Ticker           AAPL      GOOGL       MSFT        ^GSPC       AAPL   \n",
      "Date                                                                  \n",
      "2014-01-02  17.192829  27.723312  30.939615  1831.979980  17.314052   \n",
      "2014-01-03  16.815168  27.521074  30.731455  1831.369995  17.210541   \n",
      "2014-01-06  16.906870  27.827919  30.082041  1826.770020  16.996077   \n",
      "2014-01-07  16.785944  28.364391  30.315155  1837.880005  16.969953   \n",
      "2014-01-08  16.892250  28.423416  29.773956  1837.489990  16.957523   \n",
      "\n",
      "Price                                                Low             \\\n",
      "Ticker          GOOGL       MSFT        ^GSPC       AAPL      GOOGL   \n",
      "Date                                                                  \n",
      "2014-01-02  27.838627  31.139442  1845.859985  17.158328  27.602269   \n",
      "2014-01-03  27.818201  30.989564  1838.239990  16.798072  27.519332   \n",
      "2014-01-06  27.866274  30.714820  1837.160034  16.585784  27.556942   \n",
      "2014-01-07  28.385064  30.381765  1840.099976  16.720049  27.923555   \n",
      "2014-01-08  28.575094  30.090347  1840.020020  16.743986  28.225664   \n",
      "\n",
      "Price                                    Open                        \\\n",
      "Ticker           MSFT        ^GSPC       AAPL      GOOGL       MSFT   \n",
      "Date                                                                  \n",
      "2014-01-02  30.889658  1827.739990  17.272091  27.781591  31.097809   \n",
      "2014-01-03  30.473346  1829.130005  17.184432  27.770133  30.972911   \n",
      "2014-01-06  30.065388  1823.729980  16.705454  27.720575  30.681515   \n",
      "2014-01-07  30.148633  1828.709961  16.918978  28.019194  30.248548   \n",
      "2014-01-08  29.624090  1831.400024  16.747714  28.542218  29.973783   \n",
      "\n",
      "Price                       Volume                                   \n",
      "Ticker            ^GSPC       AAPL      GOOGL      MSFT       ^GSPC  \n",
      "Date                                                                 \n",
      "2014-01-02  1845.859985  234684800   72783144  30632200  3080600000  \n",
      "2014-01-03  1833.209961  392467600   66601332  31134800  2774270000  \n",
      "2014-01-06  1832.310059  412610800   70701228  43603700  3294850000  \n",
      "2014-01-07  1828.709961  317209200  102001896  35802800  3511750000  \n",
      "2014-01-08  1837.900024  258529600   89610300  59971700  3652140000  \n",
      "\n",
      "Data columns:\n",
      "MultiIndex([( 'Close',  'AAPL'),\n",
      "            ( 'Close', 'GOOGL'),\n",
      "            ( 'Close',  'MSFT'),\n",
      "            ( 'Close', '^GSPC'),\n",
      "            (  'High',  'AAPL'),\n",
      "            (  'High', 'GOOGL'),\n",
      "            (  'High',  'MSFT'),\n",
      "            (  'High', '^GSPC'),\n",
      "            (   'Low',  'AAPL'),\n",
      "            (   'Low', 'GOOGL'),\n",
      "            (   'Low',  'MSFT'),\n",
      "            (   'Low', '^GSPC'),\n",
      "            (  'Open',  'AAPL'),\n",
      "            (  'Open', 'GOOGL'),\n",
      "            (  'Open',  'MSFT'),\n",
      "            (  'Open', '^GSPC'),\n",
      "            ('Volume',  'AAPL'),\n",
      "            ('Volume', 'GOOGL'),\n",
      "            ('Volume',  'MSFT'),\n",
      "            ('Volume', '^GSPC')],\n",
      "           names=['Price', 'Ticker'])\n",
      "\n",
      "--- Data Inspection ---\n",
      "<class 'pandas.core.frame.DataFrame'>\n",
      "DatetimeIndex: 2767 entries, 2014-01-02 to 2024-12-30\n",
      "Data columns (total 20 columns):\n",
      " #   Column           Non-Null Count  Dtype  \n",
      "---  ------           --------------  -----  \n",
      " 0   (Close, AAPL)    2767 non-null   float64\n",
      " 1   (Close, GOOGL)   2767 non-null   float64\n",
      " 2   (Close, MSFT)    2767 non-null   float64\n",
      " 3   (Close, ^GSPC)   2767 non-null   float64\n",
      " 4   (High, AAPL)     2767 non-null   float64\n",
      " 5   (High, GOOGL)    2767 non-null   float64\n",
      " 6   (High, MSFT)     2767 non-null   float64\n",
      " 7   (High, ^GSPC)    2767 non-null   float64\n",
      " 8   (Low, AAPL)      2767 non-null   float64\n",
      " 9   (Low, GOOGL)     2767 non-null   float64\n",
      " 10  (Low, MSFT)      2767 non-null   float64\n",
      " 11  (Low, ^GSPC)     2767 non-null   float64\n",
      " 12  (Open, AAPL)     2767 non-null   float64\n",
      " 13  (Open, GOOGL)    2767 non-null   float64\n",
      " 14  (Open, MSFT)     2767 non-null   float64\n",
      " 15  (Open, ^GSPC)    2767 non-null   float64\n",
      " 16  (Volume, AAPL)   2767 non-null   int64  \n",
      " 17  (Volume, GOOGL)  2767 non-null   int64  \n",
      " 18  (Volume, MSFT)   2767 non-null   int64  \n",
      " 19  (Volume, ^GSPC)  2767 non-null   int64  \n",
      "dtypes: float64(16), int64(4)\n",
      "memory usage: 454.0 KB\n"
     ]
    }
   ],
   "source": [
    "# --- Load Data from CSV ---\n",
    "if os.path.exists(fin_data_filename):\n",
    "    print(f\"Loading data from {fin_data_filename}...\")\n",
    "    try:\n",
    "        all_data = pd.read_csv(fin_data_filename, header=[0, 1], index_col=0, parse_dates=True)\n",
    "        print(\"Data loaded successfully.\")\n",
    "        print(\"\\nData head:\")\n",
    "        print(all_data.head())\n",
    "        print(\"\\nData columns:\")\n",
    "        print(all_data.columns)\n",
    "    except Exception as e:\n",
    "        print(f\"Error loading data from {fin_data_filename}: {e}\")\n",
    "        all_data = pd.DataFrame() # Initialize empty dataframe if loading fails\n",
    "else:\n",
    "    print(f\"File {fin_data_filename} not found. Please run the download block first.\")\n",
    "    all_data = pd.DataFrame() # Initialize empty dataframe# --- Basic Data Inspection (if data loaded) ---\n",
    "if not all_data.empty:\n",
    "    print(\"\\n--- Data Inspection ---\")\n",
    "    all_data.info()"
   ]
  },
  {
   "cell_type": "code",
   "execution_count": 14,
   "id": "90f9e416-5291-4570-a2a0-448a2e1e5889",
   "metadata": {},
   "outputs": [
    {
     "name": "stdout",
     "output_type": "stream",
     "text": [
      "\n",
      "Close prices head:\n",
      "Ticker           AAPL      GOOGL       MSFT        ^GSPC\n",
      "Date                                                    \n",
      "2014-01-02  17.192829  27.723312  30.939615  1831.979980\n",
      "2014-01-03  16.815168  27.521074  30.731455  1831.369995\n",
      "2014-01-06  16.906870  27.827919  30.082041  1826.770020\n",
      "2014-01-07  16.785944  28.364391  30.315155  1837.880005\n",
      "2014-01-08  16.892250  28.423416  29.773956  1837.489990\n"
     ]
    }
   ],
   "source": [
    "    # Выберем только 'Close' для анализа доходностей, например\n",
    "    close_data = all_data['Close'].copy()\n",
    "    print(\"\\nClose prices head:\")\n",
    "    print(close_data.head())"
   ]
  }
 ],
 "metadata": {
  "kernelspec": {
   "display_name": "Python 3 (ipykernel)",
   "language": "python",
   "name": "python3"
  },
  "language_info": {
   "codemirror_mode": {
    "name": "ipython",
    "version": 3
   },
   "file_extension": ".py",
   "mimetype": "text/x-python",
   "name": "python",
   "nbconvert_exporter": "python",
   "pygments_lexer": "ipython3",
   "version": "3.12.2"
  }
 },
 "nbformat": 4,
 "nbformat_minor": 5
}
