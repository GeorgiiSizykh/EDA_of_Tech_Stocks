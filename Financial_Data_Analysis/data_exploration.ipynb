{
 "cells": [
  {
   "cell_type": "code",
   "execution_count": 2,
   "id": "04d47c7e-76d5-43dd-9c90-dea065b39c67",
   "metadata": {},
   "outputs": [],
   "source": [
    "# Imports\n",
    "import yfinance as yf\n",
    "import pandas as pd\n",
    "import os"
   ]
  },
  {
   "cell_type": "code",
   "execution_count": 6,
   "id": "8baa5368-7fb9-4bee-8a47-593cf7757cf6",
   "metadata": {},
   "outputs": [
    {
     "name": "stderr",
     "output_type": "stream",
     "text": [
      "[*********************100%***********************]  4 of 4 completed\n"
     ]
    }
   ],
   "source": [
    "# --- Configuration ---\n",
    "tickers_list = [\"AAPL\", \"MSFT\", \"GOOGL\", \"^GSPC\"]\n",
    "start_date = \"2014-01-01\"\n",
    "end_date = \"2024-12-31\"\n",
    "output_filename = \"financial_data.csv\"\n",
    "\n",
    "# --- Data Loading and Processing ---\n",
    "close_prices = None # Инициализируем, чтобы переменная была доступна\n",
    "\n",
    "# Load data\n",
    "all_data = yf.download(tickers_list, start=start_date, end=end_date)"
   ]
  },
  {
   "cell_type": "code",
   "execution_count": 7,
   "id": "50226959-275e-4c5b-a58c-8d46e51c14f3",
   "metadata": {},
   "outputs": [
    {
     "name": "stderr",
     "output_type": "stream",
     "text": [
      "[*********************100%***********************]  4 of 4 completed"
     ]
    },
    {
     "name": "stdout",
     "output_type": "stream",
     "text": [
      "Downloading data for: AAPL, MSFT, GOOGL, ^GSPC\n",
      "Period: 2014-01-01 to 2024-12-31\n",
      "\n",
      "Data downloaded successfully.\n",
      "\n",
      "Structure of downloaded data columns:\n",
      "MultiIndex([( 'Close',  'AAPL'),\n",
      "            ( 'Close', 'GOOGL'),\n",
      "            ( 'Close',  'MSFT'),\n",
      "            ( 'Close', '^GSPC'),\n",
      "            (  'High',  'AAPL'),\n",
      "            (  'High', 'GOOGL'),\n",
      "            (  'High',  'MSFT'),\n",
      "            (  'High', '^GSPC'),\n",
      "            (   'Low',  'AAPL'),\n",
      "            (   'Low', 'GOOGL'),\n",
      "            (   'Low',  'MSFT'),\n",
      "            (   'Low', '^GSPC'),\n",
      "            (  'Open',  'AAPL'),\n",
      "            (  'Open', 'GOOGL'),\n",
      "            (  'Open',  'MSFT'),\n",
      "            (  'Open', '^GSPC'),\n",
      "            ('Volume',  'AAPL'),\n",
      "            ('Volume', 'GOOGL'),\n",
      "            ('Volume',  'MSFT'),\n",
      "            ('Volume', '^GSPC')],\n",
      "           names=['Price', 'Ticker'])\n",
      "\n",
      "All downloaded data (including OHLCV) successfully saved to: financial_data.csv\n"
     ]
    },
    {
     "name": "stderr",
     "output_type": "stream",
     "text": [
      "\n"
     ]
    }
   ],
   "source": [
    "# --- Download Data ---\n",
    "# Run this block for donwnloading data to financial_data.csv if there is no such file yet in the project folder\n",
    "\"\"\"\n",
    "print(f\"Downloading data for: {', '.join(tickers_list)}\")\n",
    "print(f\"Period: {start_date} to {end_date}\")\n",
    "\n",
    "try:\n",
    "    all_data = yf.download(tickers_list, start=start_date, end=end_date)\n",
    "\n",
    "    if not all_data.empty:\n",
    "        print(\"\\nData downloaded successfully.\")\n",
    "\n",
    "        # Посмотрим на структуру столбцов, чтобы понять, что мы сохраняем\n",
    "        print(\"\\nStructure of downloaded data columns:\")\n",
    "        print(all_data.columns)\n",
    "\n",
    "        # --- Save Data to CSV ---\n",
    "        try:\n",
    "            all_data.to_csv(output_filename)\n",
    "            print(f\"\\nAll downloaded data (including OHLCV) successfully saved to: {output_filename}\")\n",
    "        except Exception as e:\n",
    "            print(f\"\\nError saving data to {output_filename}: {e}\")\n",
    "            print(\"Data was downloaded but not saved.\")\n",
    "\n",
    "    else:\n",
    "        print(\"\\nDownloaded data (all_data) is empty. Please check tickers and date range. Data not saved.\")\n",
    "\n",
    "except Exception as e:\n",
    "    print(f\"\\nAn error occurred during download: {e}\")\n",
    "    print(\"Data not saved.\")\n",
    "\"\"\""
   ]
  }
 ],
 "metadata": {
  "kernelspec": {
   "display_name": "Python 3 (ipykernel)",
   "language": "python",
   "name": "python3"
  },
  "language_info": {
   "codemirror_mode": {
    "name": "ipython",
    "version": 3
   },
   "file_extension": ".py",
   "mimetype": "text/x-python",
   "name": "python",
   "nbconvert_exporter": "python",
   "pygments_lexer": "ipython3",
   "version": "3.12.2"
  }
 },
 "nbformat": 4,
 "nbformat_minor": 5
}
