{
 "cells": [
  {
   "cell_type": "code",
   "execution_count": 1,
   "id": "04d47c7e-76d5-43dd-9c90-dea065b39c67",
   "metadata": {},
   "outputs": [],
   "source": [
    "# Imports\n",
    "import yfinance as yf\n",
    "import pandas as pd"
   ]
  },
  {
   "cell_type": "code",
   "execution_count": 14,
   "id": "8baa5368-7fb9-4bee-8a47-593cf7757cf6",
   "metadata": {},
   "outputs": [
    {
     "name": "stderr",
     "output_type": "stream",
     "text": [
      "[*********************100%***********************]  4 of 4 completed\n"
     ]
    }
   ],
   "source": [
    "# Set tickers and period\n",
    "tickers_list = [\"AAPL\", \"MSFT\", \"GOOGL\", \"^GSPC\"]\n",
    "start_date = \"2014-01-01\"\n",
    "end_date = \"2024-12-31\"\n",
    "\n",
    "# Load data\n",
    "all_data = yf.download(tickers_list, start=start_date, end=end_date)\n",
    "close_prices = all_data['Close']"
   ]
  },
  {
   "cell_type": "code",
   "execution_count": 15,
   "id": "f39e3136-6b08-4e65-b610-18b60eb8b07b",
   "metadata": {},
   "outputs": [
    {
     "name": "stdout",
     "output_type": "stream",
     "text": [
      "Successfully extracted 'Close' prices.\n",
      "\n",
      "No missing data found in 'Close' prices.\n",
      "\n",
      "First 5 rows of 'Close' prices:\n",
      "Ticker           AAPL      GOOGL       MSFT        ^GSPC\n",
      "Date                                                    \n",
      "2014-01-02  17.192823  27.723314  30.939611  1831.979980\n",
      "2014-01-03  16.815174  27.521076  30.731457  1831.369995\n",
      "2014-01-06  16.906862  27.827917  30.082033  1826.770020\n",
      "2014-01-07  16.785950  28.364393  30.315163  1837.880005\n",
      "2014-01-08  16.892252  28.423418  29.773964  1837.489990\n",
      "\n",
      "Info for 'Close' prices DataFrame:\n",
      "<class 'pandas.core.frame.DataFrame'>\n",
      "DatetimeIndex: 2767 entries, 2014-01-02 to 2024-12-30\n",
      "Data columns (total 4 columns):\n",
      " #   Column  Non-Null Count  Dtype  \n",
      "---  ------  --------------  -----  \n",
      " 0   AAPL    2767 non-null   float64\n",
      " 1   GOOGL   2767 non-null   float64\n",
      " 2   MSFT    2767 non-null   float64\n",
      " 3   ^GSPC   2767 non-null   float64\n",
      "dtypes: float64(4)\n",
      "memory usage: 108.1 KB\n"
     ]
    }
   ],
   "source": [
    "if not all_data.empty and 'Close' in all_data.columns.get_level_values(0).unique():\n",
    "    close_prices = all_data['Close']\n",
    "    print(\"Successfully extracted 'Close' prices.\") # Это сообщение лучше вынести сюда\n",
    "\n",
    "    # Check for missing data\n",
    "    missing_data_sum = close_prices.isnull().sum()\n",
    "    total_missing = missing_data_sum.sum()\n",
    "\n",
    "    if total_missing == 0:\n",
    "        print(\"\\nNo missing data found in 'Close' prices.\")\n",
    "    else:\n",
    "        print(\"\\nMissing data found in 'Close' prices.\")\n",
    "        missing_tickers = missing_data_sum[missing_data_sum > 0]\n",
    "        if not missing_tickers.empty:\n",
    "            print(\"Tickers with missing data and count of missing values:\")\n",
    "            for ticker, count in missing_tickers.items():\n",
    "                print(f\"- {ticker}: {count} missing value(s)\")\n",
    "        # ... (остальная часть блока else из предыдущего примера) ...\n",
    "\n",
    "    # Дальнейший код, использующий close_prices\n",
    "    if not close_prices.empty: # Эта проверка здесь избыточна, если мы уже внутри первого if\n",
    "        print(\"\\nFirst 5 rows of 'Close' prices:\")\n",
    "        print(close_prices.head())\n",
    "        print(\"\\nInfo for 'Close' prices DataFrame:\")\n",
    "        close_prices.info()\n",
    "\n",
    "else:\n",
    "    # Этот блок выполняется, если all_data пустое ИЛИ 'Close' не найдено\n",
    "    if all_data.empty:\n",
    "        print(\"\\nDownloaded data (all_data) is empty. Please check tickers and date range.\")\n",
    "    else:\n",
    "        print(\"\\nCould not extract 'Close' prices. Column 'Close' might be missing from the first level of downloaded data.\")\n",
    "        print(\"Columns structure:\")\n",
    "        print(all_data.columns) # Показываем структуру, если 'Close' не найдено"
   ]
  },
  {
   "cell_type": "code",
   "execution_count": null,
   "id": "3ab913c2-78ef-47b8-a5f9-019557abfbb3",
   "metadata": {},
   "outputs": [],
   "source": []
  }
 ],
 "metadata": {
  "kernelspec": {
   "display_name": "Python 3 (ipykernel)",
   "language": "python",
   "name": "python3"
  },
  "language_info": {
   "codemirror_mode": {
    "name": "ipython",
    "version": 3
   },
   "file_extension": ".py",
   "mimetype": "text/x-python",
   "name": "python",
   "nbconvert_exporter": "python",
   "pygments_lexer": "ipython3",
   "version": "3.12.2"
  }
 },
 "nbformat": 4,
 "nbformat_minor": 5
}
